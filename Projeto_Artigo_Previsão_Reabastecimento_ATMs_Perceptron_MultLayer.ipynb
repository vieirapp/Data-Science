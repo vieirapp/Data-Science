{
  "nbformat": 4,
  "nbformat_minor": 0,
  "metadata": {
    "colab": {
      "name": "Projeto Artigo - Previsão Reabastecimento ATMs - Perceptron MultLayer.ipynb",
      "provenance": [],
      "collapsed_sections": [],
      "mount_file_id": "1WN7KWoxlQhMaW13FrLu2naoZ4qk99zxc",
      "authorship_tag": "ABX9TyMaTf3TetTEfm3oAoh3/AsC",
      "include_colab_link": true
    },
    "kernelspec": {
      "name": "python3",
      "display_name": "Python 3"
    }
  },
  "cells": [
    {
      "cell_type": "markdown",
      "metadata": {
        "id": "view-in-github",
        "colab_type": "text"
      },
      "source": [
        "<a href=\"https://colab.research.google.com/github/vieirapp/Data-Science/blob/master/Projeto_Artigo_Previs%C3%A3o_Reabastecimento_ATMs_Perceptron_MultLayer.ipynb\" target=\"_parent\"><img src=\"https://colab.research.google.com/assets/colab-badge.svg\" alt=\"Open In Colab\"/></a>"
      ]
    },
    {
      "cell_type": "markdown",
      "metadata": {
        "id": "M5TcGsq16BSa",
        "colab_type": "text"
      },
      "source": [
        "# **Projeto Artigo - Previsão Reabastecimento ATMs - Perceptron MultLayer**"
      ]
    },
    {
      "cell_type": "markdown",
      "metadata": {
        "id": "944VwKrxacG1",
        "colab_type": "text"
      },
      "source": [
        "Importando as Bibliotecas Iniciais"
      ]
    },
    {
      "cell_type": "code",
      "metadata": {
        "id": "AId4FZb66RBV",
        "colab_type": "code",
        "colab": {}
      },
      "source": [
        "import pandas as pd\n",
        "import numpy as np\n",
        "import seaborn as sns\n",
        "import matplotlib.pyplot as plt\n",
        "import os\n",
        "import warnings\n",
        "warnings.filterwarnings('ignore')\n",
        "import matplotlib.pyplot as plt"
      ],
      "execution_count": 0,
      "outputs": []
    },
    {
      "cell_type": "markdown",
      "metadata": {
        "id": "cSX3bwryaicR",
        "colab_type": "text"
      },
      "source": [
        "Carregando o DataSet e Criando o Dataframe"
      ]
    },
    {
      "cell_type": "code",
      "metadata": {
        "id": "OE2BWMgh8Mlf",
        "colab_type": "code",
        "outputId": "80fc92ae-05a6-445a-d1b3-2d4957b894b5",
        "colab": {
          "base_uri": "https://localhost:8080/",
          "height": 36
        }
      },
      "source": [
        "from google.colab import drive\n",
        "drive.mount('/content/drive')"
      ],
      "execution_count": 0,
      "outputs": [
        {
          "output_type": "stream",
          "text": [
            "Drive already mounted at /content/drive; to attempt to forcibly remount, call drive.mount(\"/content/drive\", force_remount=True).\n"
          ],
          "name": "stdout"
        }
      ]
    },
    {
      "cell_type": "code",
      "metadata": {
        "id": "xVmluWH-8g7o",
        "colab_type": "code",
        "colab": {}
      },
      "source": [
        "path = '/content/drive/My Drive/Datasets/'  "
      ],
      "execution_count": 0,
      "outputs": []
    },
    {
      "cell_type": "code",
      "metadata": {
        "id": "pmGTLTyR8mrU",
        "colab_type": "code",
        "colab": {}
      },
      "source": [
        "df = pd.read_csv('/content/drive/My Drive/Datasets/AggregatedData.csv')"
      ],
      "execution_count": 0,
      "outputs": []
    },
    {
      "cell_type": "markdown",
      "metadata": {
        "id": "rhHq44KDansD",
        "colab_type": "text"
      },
      "source": [
        "##Análise Exploratória Inicial"
      ]
    },
    {
      "cell_type": "code",
      "metadata": {
        "id": "vqkRSO68877-",
        "colab_type": "code",
        "outputId": "d76ca4d9-b043-423c-f01a-c463976ff407",
        "colab": {
          "base_uri": "https://localhost:8080/",
          "height": 363
        }
      },
      "source": [
        "df.head()"
      ],
      "execution_count": 56,
      "outputs": [
        {
          "output_type": "execute_result",
          "data": {
            "text/html": [
              "<div>\n",
              "<style scoped>\n",
              "    .dataframe tbody tr th:only-of-type {\n",
              "        vertical-align: middle;\n",
              "    }\n",
              "\n",
              "    .dataframe tbody tr th {\n",
              "        vertical-align: top;\n",
              "    }\n",
              "\n",
              "    .dataframe thead th {\n",
              "        text-align: right;\n",
              "    }\n",
              "</style>\n",
              "<table border=\"1\" class=\"dataframe\">\n",
              "  <thead>\n",
              "    <tr style=\"text-align: right;\">\n",
              "      <th></th>\n",
              "      <th>ATM Name</th>\n",
              "      <th>Transaction Date</th>\n",
              "      <th>No Of Withdrawals</th>\n",
              "      <th>No Of XYZ Card Withdrawals</th>\n",
              "      <th>No Of Other Card Withdrawals</th>\n",
              "      <th>Total amount Withdrawn</th>\n",
              "      <th>Amount withdrawn XYZ Card</th>\n",
              "      <th>Amount withdrawn Other Card</th>\n",
              "      <th>Weekday</th>\n",
              "      <th>Festival Religion</th>\n",
              "      <th>Working Day</th>\n",
              "      <th>Holiday Sequence</th>\n",
              "    </tr>\n",
              "  </thead>\n",
              "  <tbody>\n",
              "    <tr>\n",
              "      <th>0</th>\n",
              "      <td>Big Street ATM</td>\n",
              "      <td>1/1/2011</td>\n",
              "      <td>50</td>\n",
              "      <td>20</td>\n",
              "      <td>30</td>\n",
              "      <td>123800</td>\n",
              "      <td>41700</td>\n",
              "      <td>82100</td>\n",
              "      <td>Saturday</td>\n",
              "      <td>H</td>\n",
              "      <td>H</td>\n",
              "      <td>WHH</td>\n",
              "    </tr>\n",
              "    <tr>\n",
              "      <th>1</th>\n",
              "      <td>Mount Road ATM</td>\n",
              "      <td>1/1/2011</td>\n",
              "      <td>253</td>\n",
              "      <td>67</td>\n",
              "      <td>186</td>\n",
              "      <td>767900</td>\n",
              "      <td>270900</td>\n",
              "      <td>497000</td>\n",
              "      <td>Saturday</td>\n",
              "      <td>C</td>\n",
              "      <td>H</td>\n",
              "      <td>WHH</td>\n",
              "    </tr>\n",
              "    <tr>\n",
              "      <th>2</th>\n",
              "      <td>Airport ATM</td>\n",
              "      <td>1/1/2011</td>\n",
              "      <td>98</td>\n",
              "      <td>56</td>\n",
              "      <td>42</td>\n",
              "      <td>503400</td>\n",
              "      <td>347700</td>\n",
              "      <td>155700</td>\n",
              "      <td>Saturday</td>\n",
              "      <td>C</td>\n",
              "      <td>H</td>\n",
              "      <td>WHH</td>\n",
              "    </tr>\n",
              "    <tr>\n",
              "      <th>3</th>\n",
              "      <td>KK Nagar ATM</td>\n",
              "      <td>1/1/2011</td>\n",
              "      <td>265</td>\n",
              "      <td>159</td>\n",
              "      <td>106</td>\n",
              "      <td>945300</td>\n",
              "      <td>532600</td>\n",
              "      <td>412700</td>\n",
              "      <td>Saturday</td>\n",
              "      <td>C</td>\n",
              "      <td>H</td>\n",
              "      <td>WHH</td>\n",
              "    </tr>\n",
              "    <tr>\n",
              "      <th>4</th>\n",
              "      <td>Christ College ATM</td>\n",
              "      <td>1/1/2011</td>\n",
              "      <td>74</td>\n",
              "      <td>25</td>\n",
              "      <td>49</td>\n",
              "      <td>287700</td>\n",
              "      <td>148200</td>\n",
              "      <td>139500</td>\n",
              "      <td>Saturday</td>\n",
              "      <td>C</td>\n",
              "      <td>H</td>\n",
              "      <td>WHH</td>\n",
              "    </tr>\n",
              "  </tbody>\n",
              "</table>\n",
              "</div>"
            ],
            "text/plain": [
              "             ATM Name Transaction Date  ...  Working Day  Holiday Sequence\n",
              "0      Big Street ATM         1/1/2011  ...            H               WHH\n",
              "1      Mount Road ATM         1/1/2011  ...            H               WHH\n",
              "2         Airport ATM         1/1/2011  ...            H               WHH\n",
              "3        KK Nagar ATM         1/1/2011  ...            H               WHH\n",
              "4  Christ College ATM         1/1/2011  ...            H               WHH\n",
              "\n",
              "[5 rows x 12 columns]"
            ]
          },
          "metadata": {
            "tags": []
          },
          "execution_count": 56
        }
      ]
    },
    {
      "cell_type": "code",
      "metadata": {
        "id": "EjOWexdDaVia",
        "colab_type": "code",
        "outputId": "e3829ceb-dab0-4ead-a627-ad467efb3035",
        "colab": {
          "base_uri": "https://localhost:8080/",
          "height": 325
        }
      },
      "source": [
        "df.corr()"
      ],
      "execution_count": 57,
      "outputs": [
        {
          "output_type": "execute_result",
          "data": {
            "text/html": [
              "<div>\n",
              "<style scoped>\n",
              "    .dataframe tbody tr th:only-of-type {\n",
              "        vertical-align: middle;\n",
              "    }\n",
              "\n",
              "    .dataframe tbody tr th {\n",
              "        vertical-align: top;\n",
              "    }\n",
              "\n",
              "    .dataframe thead th {\n",
              "        text-align: right;\n",
              "    }\n",
              "</style>\n",
              "<table border=\"1\" class=\"dataframe\">\n",
              "  <thead>\n",
              "    <tr style=\"text-align: right;\">\n",
              "      <th></th>\n",
              "      <th>No Of Withdrawals</th>\n",
              "      <th>No Of XYZ Card Withdrawals</th>\n",
              "      <th>No Of Other Card Withdrawals</th>\n",
              "      <th>Total amount Withdrawn</th>\n",
              "      <th>Amount withdrawn XYZ Card</th>\n",
              "      <th>Amount withdrawn Other Card</th>\n",
              "    </tr>\n",
              "  </thead>\n",
              "  <tbody>\n",
              "    <tr>\n",
              "      <th>No Of Withdrawals</th>\n",
              "      <td>1.000000</td>\n",
              "      <td>0.828651</td>\n",
              "      <td>0.718444</td>\n",
              "      <td>0.916664</td>\n",
              "      <td>0.767584</td>\n",
              "      <td>0.719508</td>\n",
              "    </tr>\n",
              "    <tr>\n",
              "      <th>No Of XYZ Card Withdrawals</th>\n",
              "      <td>0.828651</td>\n",
              "      <td>1.000000</td>\n",
              "      <td>0.205975</td>\n",
              "      <td>0.843602</td>\n",
              "      <td>0.936311</td>\n",
              "      <td>0.284056</td>\n",
              "    </tr>\n",
              "    <tr>\n",
              "      <th>No Of Other Card Withdrawals</th>\n",
              "      <td>0.718444</td>\n",
              "      <td>0.205975</td>\n",
              "      <td>1.000000</td>\n",
              "      <td>0.554181</td>\n",
              "      <td>0.178363</td>\n",
              "      <td>0.904834</td>\n",
              "    </tr>\n",
              "    <tr>\n",
              "      <th>Total amount Withdrawn</th>\n",
              "      <td>0.916664</td>\n",
              "      <td>0.843602</td>\n",
              "      <td>0.554181</td>\n",
              "      <td>1.000000</td>\n",
              "      <td>0.897033</td>\n",
              "      <td>0.686792</td>\n",
              "    </tr>\n",
              "    <tr>\n",
              "      <th>Amount withdrawn XYZ Card</th>\n",
              "      <td>0.767584</td>\n",
              "      <td>0.936311</td>\n",
              "      <td>0.178363</td>\n",
              "      <td>0.897033</td>\n",
              "      <td>1.000000</td>\n",
              "      <td>0.294833</td>\n",
              "    </tr>\n",
              "    <tr>\n",
              "      <th>Amount withdrawn Other Card</th>\n",
              "      <td>0.719508</td>\n",
              "      <td>0.284056</td>\n",
              "      <td>0.904834</td>\n",
              "      <td>0.686792</td>\n",
              "      <td>0.294833</td>\n",
              "      <td>1.000000</td>\n",
              "    </tr>\n",
              "  </tbody>\n",
              "</table>\n",
              "</div>"
            ],
            "text/plain": [
              "                              No Of Withdrawals  ...  Amount withdrawn Other Card\n",
              "No Of Withdrawals                      1.000000  ...                     0.719508\n",
              "No Of XYZ Card Withdrawals             0.828651  ...                     0.284056\n",
              "No Of Other Card Withdrawals           0.718444  ...                     0.904834\n",
              "Total amount Withdrawn                 0.916664  ...                     0.686792\n",
              "Amount withdrawn XYZ Card              0.767584  ...                     0.294833\n",
              "Amount withdrawn Other Card            0.719508  ...                     1.000000\n",
              "\n",
              "[6 rows x 6 columns]"
            ]
          },
          "metadata": {
            "tags": []
          },
          "execution_count": 57
        }
      ]
    },
    {
      "cell_type": "code",
      "metadata": {
        "id": "a6zdLclDsO83",
        "colab_type": "code",
        "outputId": "3941678d-174a-454a-b629-9e5ec9fe7342",
        "colab": {
          "base_uri": "https://localhost:8080/",
          "height": 431
        }
      },
      "source": [
        "sns.heatmap(df.corr(), cmap='inferno') #gerando heatmap a partir da correlação"
      ],
      "execution_count": 58,
      "outputs": [
        {
          "output_type": "execute_result",
          "data": {
            "text/plain": [
              "<matplotlib.axes._subplots.AxesSubplot at 0x7fe737a9c0f0>"
            ]
          },
          "metadata": {
            "tags": []
          },
          "execution_count": 58
        },
        {
          "output_type": "display_data",
          "data": {
            "image/png": "[encoded data removed]",
            "text/plain": [
              "<Figure size 432x288 with 2 Axes>"
            ]
          },
          "metadata": {
            "tags": []
          }
        }
      ]
    },
    {
      "cell_type": "code",
      "metadata": {
        "id": "nWZSP1Fwg5FQ",
        "colab_type": "code",
        "outputId": "39b8a64d-3707-497e-8a34-8bf847ce3732",
        "colab": {
          "base_uri": "https://localhost:8080/",
          "height": 341
        }
      },
      "source": [
        "df.info()"
      ],
      "execution_count": 59,
      "outputs": [
        {
          "output_type": "stream",
          "text": [
            "<class 'pandas.core.frame.DataFrame'>\n",
            "RangeIndex: 11589 entries, 0 to 11588\n",
            "Data columns (total 12 columns):\n",
            "ATM Name                        11589 non-null object\n",
            "Transaction Date                11589 non-null object\n",
            "No Of Withdrawals               11589 non-null int64\n",
            "No Of XYZ Card Withdrawals      11589 non-null int64\n",
            "No Of Other Card Withdrawals    11589 non-null int64\n",
            "Total amount Withdrawn          11589 non-null int64\n",
            "Amount withdrawn XYZ Card       11589 non-null int64\n",
            "Amount withdrawn Other Card     11589 non-null int64\n",
            "Weekday                         11589 non-null object\n",
            "Festival Religion               11589 non-null object\n",
            "Working Day                     11589 non-null object\n",
            "Holiday Sequence                11589 non-null object\n",
            "dtypes: int64(6), object(6)\n",
            "memory usage: 1.1+ MB\n"
          ],
          "name": "stdout"
        }
      ]
    },
    {
      "cell_type": "code",
      "metadata": {
        "id": "ALdgcjQwkATk",
        "colab_type": "code",
        "outputId": "e0019cd6-0ded-422f-91ae-1bb03a0f6930",
        "colab": {
          "base_uri": "https://localhost:8080/",
          "height": 272
        }
      },
      "source": [
        "atm = df.groupby('ATM Name') #agrupoar dados por ATM\n",
        "atm.sum()   #sumarizar dados agrupoados"
      ],
      "execution_count": 60,
      "outputs": [
        {
          "output_type": "execute_result",
          "data": {
            "text/html": [
              "<div>\n",
              "<style scoped>\n",
              "    .dataframe tbody tr th:only-of-type {\n",
              "        vertical-align: middle;\n",
              "    }\n",
              "\n",
              "    .dataframe tbody tr th {\n",
              "        vertical-align: top;\n",
              "    }\n",
              "\n",
              "    .dataframe thead th {\n",
              "        text-align: right;\n",
              "    }\n",
              "</style>\n",
              "<table border=\"1\" class=\"dataframe\">\n",
              "  <thead>\n",
              "    <tr style=\"text-align: right;\">\n",
              "      <th></th>\n",
              "      <th>No Of Withdrawals</th>\n",
              "      <th>No Of XYZ Card Withdrawals</th>\n",
              "      <th>No Of Other Card Withdrawals</th>\n",
              "      <th>Total amount Withdrawn</th>\n",
              "      <th>Amount withdrawn XYZ Card</th>\n",
              "      <th>Amount withdrawn Other Card</th>\n",
              "    </tr>\n",
              "    <tr>\n",
              "      <th>ATM Name</th>\n",
              "      <th></th>\n",
              "      <th></th>\n",
              "      <th></th>\n",
              "      <th></th>\n",
              "      <th></th>\n",
              "      <th></th>\n",
              "    </tr>\n",
              "  </thead>\n",
              "  <tbody>\n",
              "    <tr>\n",
              "      <th>Airport ATM</th>\n",
              "      <td>204709</td>\n",
              "      <td>152231</td>\n",
              "      <td>52478</td>\n",
              "      <td>999511100</td>\n",
              "      <td>827094200</td>\n",
              "      <td>172416900</td>\n",
              "    </tr>\n",
              "    <tr>\n",
              "      <th>Big Street ATM</th>\n",
              "      <td>207062</td>\n",
              "      <td>68770</td>\n",
              "      <td>138292</td>\n",
              "      <td>726419500</td>\n",
              "      <td>323523900</td>\n",
              "      <td>402895600</td>\n",
              "    </tr>\n",
              "    <tr>\n",
              "      <th>Christ College ATM</th>\n",
              "      <td>291207</td>\n",
              "      <td>118955</td>\n",
              "      <td>172252</td>\n",
              "      <td>1311309000</td>\n",
              "      <td>639314100</td>\n",
              "      <td>671994900</td>\n",
              "    </tr>\n",
              "    <tr>\n",
              "      <th>KK Nagar ATM</th>\n",
              "      <td>401858</td>\n",
              "      <td>288624</td>\n",
              "      <td>113234</td>\n",
              "      <td>1854299300</td>\n",
              "      <td>1389992600</td>\n",
              "      <td>464306700</td>\n",
              "    </tr>\n",
              "    <tr>\n",
              "      <th>Mount Road ATM</th>\n",
              "      <td>324564</td>\n",
              "      <td>154462</td>\n",
              "      <td>170102</td>\n",
              "      <td>1161463900</td>\n",
              "      <td>697295100</td>\n",
              "      <td>464168800</td>\n",
              "    </tr>\n",
              "  </tbody>\n",
              "</table>\n",
              "</div>"
            ],
            "text/plain": [
              "                    No Of Withdrawals  ...  Amount withdrawn Other Card\n",
              "ATM Name                               ...                             \n",
              "Airport ATM                    204709  ...                    172416900\n",
              "Big Street ATM                 207062  ...                    402895600\n",
              "Christ College ATM             291207  ...                    671994900\n",
              "KK Nagar ATM                   401858  ...                    464306700\n",
              "Mount Road ATM                 324564  ...                    464168800\n",
              "\n",
              "[5 rows x 6 columns]"
            ]
          },
          "metadata": {
            "tags": []
          },
          "execution_count": 60
        }
      ]
    },
    {
      "cell_type": "code",
      "metadata": {
        "id": "dgSJ7YjCkqt5",
        "colab_type": "code",
        "outputId": "b62d746f-72f0-400c-d755-ce27aefad0c2",
        "colab": {
          "base_uri": "https://localhost:8080/",
          "height": 150
        }
      },
      "source": [
        "atm.size() #quantidade de registros do grupo"
      ],
      "execution_count": 61,
      "outputs": [
        {
          "output_type": "execute_result",
          "data": {
            "text/plain": [
              "ATM Name\n",
              "Airport ATM           2253\n",
              "Big Street ATM        2354\n",
              "Christ College ATM    2355\n",
              "KK Nagar ATM          2371\n",
              "Mount Road ATM        2256\n",
              "dtype: int64"
            ]
          },
          "metadata": {
            "tags": []
          },
          "execution_count": 61
        }
      ]
    },
    {
      "cell_type": "code",
      "metadata": {
        "id": "6fxmM4xbmWCa",
        "colab_type": "code",
        "outputId": "b455366f-15ac-474a-9f4b-666b51ca6270",
        "colab": {
          "base_uri": "https://localhost:8080/",
          "height": 150
        }
      },
      "source": [
        "atm.sum()['No Of Withdrawals']/atm.size() #proporção entre o Número de Saques por registros de movimentações."
      ],
      "execution_count": 62,
      "outputs": [
        {
          "output_type": "execute_result",
          "data": {
            "text/plain": [
              "ATM Name\n",
              "Airport ATM            90.860630\n",
              "Big Street ATM         87.961767\n",
              "Christ College ATM    123.654777\n",
              "KK Nagar ATM          169.488823\n",
              "Mount Road ATM        143.867021\n",
              "dtype: float64"
            ]
          },
          "metadata": {
            "tags": []
          },
          "execution_count": 62
        }
      ]
    },
    {
      "cell_type": "code",
      "metadata": {
        "id": "2j7X_g1qreiq",
        "colab_type": "code",
        "outputId": "ba52454a-76c7-4672-f50b-214a4a151ad2",
        "colab": {
          "base_uri": "https://localhost:8080/",
          "height": 188
        }
      },
      "source": [
        "df.describe()['No Of Withdrawals']#Dados Estatísticos da categoria Número de Saques"
      ],
      "execution_count": 63,
      "outputs": [
        {
          "output_type": "execute_result",
          "data": {
            "text/plain": [
              "count    11589.000000\n",
              "mean       123.341099\n",
              "std         67.315288\n",
              "min          1.000000\n",
              "25%         79.000000\n",
              "50%        115.000000\n",
              "75%        158.000000\n",
              "max        491.000000\n",
              "Name: No Of Withdrawals, dtype: float64"
            ]
          },
          "metadata": {
            "tags": []
          },
          "execution_count": 63
        }
      ]
    },
    {
      "cell_type": "code",
      "metadata": {
        "id": "ar5cLIqXr1CD",
        "colab_type": "code",
        "outputId": "01de53da-eaad-4cdf-fc06-0d8c77522a8d",
        "colab": {
          "base_uri": "https://localhost:8080/",
          "height": 188
        }
      },
      "source": [
        "df.describe()['Total amount Withdrawn'] #Dados Estatísticos da categoria Total de Valores Sacados"
      ],
      "execution_count": 64,
      "outputs": [
        {
          "output_type": "execute_result",
          "data": {
            "text/plain": [
              "count    1.158900e+04\n",
              "mean     5.223059e+05\n",
              "std      3.248167e+05\n",
              "min      1.000000e+02\n",
              "25%      3.057000e+05\n",
              "50%      4.700000e+05\n",
              "75%      6.716000e+05\n",
              "max      2.549800e+06\n",
              "Name: Total amount Withdrawn, dtype: float64"
            ]
          },
          "metadata": {
            "tags": []
          },
          "execution_count": 64
        }
      ]
    },
    {
      "cell_type": "markdown",
      "metadata": {
        "colab_type": "text",
        "id": "wEdcI-SV8opF"
      },
      "source": [
        "**OBS:** Nas duas sessões acima que descrevem dados estatísticos de: número de saques (No Of Withdrawals) e volume de valores sacados (Total amount Withdrawn), percebe-se um equilíbrio se compararmos ambos os Quartís (25%/50%/75%). "
      ]
    },
    {
      "cell_type": "code",
      "metadata": {
        "id": "8ACmN6gsumzN",
        "colab_type": "code",
        "outputId": "43c333bf-762e-4cd7-f976-7e53f570aca8",
        "colab": {
          "base_uri": "https://localhost:8080/",
          "height": 318
        }
      },
      "source": [
        "wkd = df.groupby('Weekday') #agrupoar dados por Dia da Semana\n",
        "wkd.sum()   #sumarizar dados agrupados"
      ],
      "execution_count": 65,
      "outputs": [
        {
          "output_type": "execute_result",
          "data": {
            "text/html": [
              "<div>\n",
              "<style scoped>\n",
              "    .dataframe tbody tr th:only-of-type {\n",
              "        vertical-align: middle;\n",
              "    }\n",
              "\n",
              "    .dataframe tbody tr th {\n",
              "        vertical-align: top;\n",
              "    }\n",
              "\n",
              "    .dataframe thead th {\n",
              "        text-align: right;\n",
              "    }\n",
              "</style>\n",
              "<table border=\"1\" class=\"dataframe\">\n",
              "  <thead>\n",
              "    <tr style=\"text-align: right;\">\n",
              "      <th></th>\n",
              "      <th>No Of Withdrawals</th>\n",
              "      <th>No Of XYZ Card Withdrawals</th>\n",
              "      <th>No Of Other Card Withdrawals</th>\n",
              "      <th>Total amount Withdrawn</th>\n",
              "      <th>Amount withdrawn XYZ Card</th>\n",
              "      <th>Amount withdrawn Other Card</th>\n",
              "    </tr>\n",
              "    <tr>\n",
              "      <th>Weekday</th>\n",
              "      <th></th>\n",
              "      <th></th>\n",
              "      <th></th>\n",
              "      <th></th>\n",
              "      <th></th>\n",
              "      <th></th>\n",
              "    </tr>\n",
              "  </thead>\n",
              "  <tbody>\n",
              "    <tr>\n",
              "      <th>Friday</th>\n",
              "      <td>167463</td>\n",
              "      <td>92382</td>\n",
              "      <td>75081</td>\n",
              "      <td>713503600</td>\n",
              "      <td>456597600</td>\n",
              "      <td>256906000</td>\n",
              "    </tr>\n",
              "    <tr>\n",
              "      <th>Monday</th>\n",
              "      <td>181986</td>\n",
              "      <td>101032</td>\n",
              "      <td>80954</td>\n",
              "      <td>796975400</td>\n",
              "      <td>511211100</td>\n",
              "      <td>285764300</td>\n",
              "    </tr>\n",
              "    <tr>\n",
              "      <th>Saturday</th>\n",
              "      <td>224705</td>\n",
              "      <td>122441</td>\n",
              "      <td>102264</td>\n",
              "      <td>973023900</td>\n",
              "      <td>621518100</td>\n",
              "      <td>351505800</td>\n",
              "    </tr>\n",
              "    <tr>\n",
              "      <th>Sunday</th>\n",
              "      <td>311304</td>\n",
              "      <td>162960</td>\n",
              "      <td>148344</td>\n",
              "      <td>1183158800</td>\n",
              "      <td>734810300</td>\n",
              "      <td>448348500</td>\n",
              "    </tr>\n",
              "    <tr>\n",
              "      <th>Thursday</th>\n",
              "      <td>174770</td>\n",
              "      <td>96833</td>\n",
              "      <td>77937</td>\n",
              "      <td>768061500</td>\n",
              "      <td>495101100</td>\n",
              "      <td>272960400</td>\n",
              "    </tr>\n",
              "    <tr>\n",
              "      <th>Tuesday</th>\n",
              "      <td>185715</td>\n",
              "      <td>104697</td>\n",
              "      <td>81018</td>\n",
              "      <td>801058400</td>\n",
              "      <td>523129400</td>\n",
              "      <td>277929000</td>\n",
              "    </tr>\n",
              "    <tr>\n",
              "      <th>Wednesday</th>\n",
              "      <td>183457</td>\n",
              "      <td>102697</td>\n",
              "      <td>80760</td>\n",
              "      <td>817221200</td>\n",
              "      <td>534852300</td>\n",
              "      <td>282368900</td>\n",
              "    </tr>\n",
              "  </tbody>\n",
              "</table>\n",
              "</div>"
            ],
            "text/plain": [
              "           No Of Withdrawals  ...  Amount withdrawn Other Card\n",
              "Weekday                       ...                             \n",
              "Friday                167463  ...                    256906000\n",
              "Monday                181986  ...                    285764300\n",
              "Saturday              224705  ...                    351505800\n",
              "Sunday                311304  ...                    448348500\n",
              "Thursday              174770  ...                    272960400\n",
              "Tuesday               185715  ...                    277929000\n",
              "Wednesday             183457  ...                    282368900\n",
              "\n",
              "[7 rows x 6 columns]"
            ]
          },
          "metadata": {
            "tags": []
          },
          "execution_count": 65
        }
      ]
    },
    {
      "cell_type": "code",
      "metadata": {
        "id": "4AZS6dfEu9UK",
        "colab_type": "code",
        "outputId": "e83de592-c2d6-4e3a-94e4-b2b9219c68e3",
        "colab": {
          "base_uri": "https://localhost:8080/",
          "height": 188
        }
      },
      "source": [
        "wkd.sum()['No Of Withdrawals']/wkd.size() #proporção entre o Número de Saques por Dia da Semana"
      ],
      "execution_count": 66,
      "outputs": [
        {
          "output_type": "execute_result",
          "data": {
            "text/plain": [
              "Weekday\n",
              "Friday       118.599858\n",
              "Monday       124.818930\n",
              "Saturday     136.267435\n",
              "Sunday       115.898734\n",
              "Thursday     123.077465\n",
              "Tuesday      123.645140\n",
              "Wednesday    125.483584\n",
              "dtype: float64"
            ]
          },
          "metadata": {
            "tags": []
          },
          "execution_count": 66
        }
      ]
    },
    {
      "cell_type": "code",
      "metadata": {
        "id": "QzhMhZYyu9Jd",
        "colab_type": "code",
        "outputId": "b5a2ddd0-a7c2-4cbc-c208-bfb275dd31f3",
        "colab": {
          "base_uri": "https://localhost:8080/",
          "height": 188
        }
      },
      "source": [
        "wkd.sum()['Total amount Withdrawn']/wkd.size() #proporção entre o Total de Valores Sacados por Dia da Semana"
      ],
      "execution_count": 67,
      "outputs": [
        {
          "output_type": "execute_result",
          "data": {
            "text/plain": [
              "Weekday\n",
              "Friday       505314.164306\n",
              "Monday       546622.359396\n",
              "Saturday     590069.072165\n",
              "Sunday       440490.990320\n",
              "Thursday     540888.380282\n",
              "Tuesday      533327.829561\n",
              "Wednesday    558974.829001\n",
              "dtype: float64"
            ]
          },
          "metadata": {
            "tags": []
          },
          "execution_count": 67
        }
      ]
    },
    {
      "cell_type": "markdown",
      "metadata": {
        "id": "XeotLsAnvtWW",
        "colab_type": "text"
      },
      "source": [
        "##### **OBS:** Nas duas sessões acima é interessante observar que tanto o **total de número de saques** quanto o **total em valores sacados**, o maior volume de ambos acontece aos Sábados, em 2º posição as Quartas-Feiras. Segundas, Terças e Quintas se mantém equilibradas e às Sextas existe uma queda considerável, Domingo é o dia que encontra-se os menores valores."
      ]
    },
    {
      "cell_type": "code",
      "metadata": {
        "id": "y9VOg52hwZ7h",
        "colab_type": "code",
        "outputId": "4021d9ee-4e17-43b7-f8ea-d4bb8d4c4f26",
        "colab": {
          "base_uri": "https://localhost:8080/",
          "height": 178
        }
      },
      "source": [
        "dut = df.groupby('Working Day') #agrupoar dados por Dia Útil\n",
        "dut.sum()   #sumarizar dados agrupados"
      ],
      "execution_count": 68,
      "outputs": [
        {
          "output_type": "execute_result",
          "data": {
            "text/html": [
              "<div>\n",
              "<style scoped>\n",
              "    .dataframe tbody tr th:only-of-type {\n",
              "        vertical-align: middle;\n",
              "    }\n",
              "\n",
              "    .dataframe tbody tr th {\n",
              "        vertical-align: top;\n",
              "    }\n",
              "\n",
              "    .dataframe thead th {\n",
              "        text-align: right;\n",
              "    }\n",
              "</style>\n",
              "<table border=\"1\" class=\"dataframe\">\n",
              "  <thead>\n",
              "    <tr style=\"text-align: right;\">\n",
              "      <th></th>\n",
              "      <th>No Of Withdrawals</th>\n",
              "      <th>No Of XYZ Card Withdrawals</th>\n",
              "      <th>No Of Other Card Withdrawals</th>\n",
              "      <th>Total amount Withdrawn</th>\n",
              "      <th>Amount withdrawn XYZ Card</th>\n",
              "      <th>Amount withdrawn Other Card</th>\n",
              "    </tr>\n",
              "    <tr>\n",
              "      <th>Working Day</th>\n",
              "      <th></th>\n",
              "      <th></th>\n",
              "      <th></th>\n",
              "      <th></th>\n",
              "      <th></th>\n",
              "      <th></th>\n",
              "    </tr>\n",
              "  </thead>\n",
              "  <tbody>\n",
              "    <tr>\n",
              "      <th>H</th>\n",
              "      <td>606092</td>\n",
              "      <td>322863</td>\n",
              "      <td>283229</td>\n",
              "      <td>2436365100</td>\n",
              "      <td>1531865500</td>\n",
              "      <td>904499600</td>\n",
              "    </tr>\n",
              "    <tr>\n",
              "      <th>W</th>\n",
              "      <td>823308</td>\n",
              "      <td>460179</td>\n",
              "      <td>363129</td>\n",
              "      <td>3616637700</td>\n",
              "      <td>2345354400</td>\n",
              "      <td>1271283300</td>\n",
              "    </tr>\n",
              "  </tbody>\n",
              "</table>\n",
              "</div>"
            ],
            "text/plain": [
              "             No Of Withdrawals  ...  Amount withdrawn Other Card\n",
              "Working Day                     ...                             \n",
              "H                       606092  ...                    904499600\n",
              "W                       823308  ...                   1271283300\n",
              "\n",
              "[2 rows x 6 columns]"
            ]
          },
          "metadata": {
            "tags": []
          },
          "execution_count": 68
        }
      ]
    },
    {
      "cell_type": "markdown",
      "metadata": {
        "id": "1g5d8IhU0HmG",
        "colab_type": "text"
      },
      "source": [
        "**OBS:** Acima podemos notar que o número de saques (No Of Withdrawals) em relação ao volume de valores sacados (Total amount Withdrawn) são bem maiores em **dias úteis (w)** que em **feriados (h)**. E se notarmos no gráfico (logo abaixo) houve mais dias úteis que feriados (que justifica o motivo)."
      ]
    },
    {
      "cell_type": "code",
      "metadata": {
        "id": "lExjhcrz0fmC",
        "colab_type": "code",
        "outputId": "804568a4-f667-49fd-be45-4f9fd9bee0d9",
        "colab": {
          "base_uri": "https://localhost:8080/",
          "height": 298
        }
      },
      "source": [
        "sns.countplot(df['Working Day']) #contagem da categoria \"dias úteis\""
      ],
      "execution_count": 69,
      "outputs": [
        {
          "output_type": "execute_result",
          "data": {
            "text/plain": [
              "<matplotlib.axes._subplots.AxesSubplot at 0x7fe737aecc18>"
            ]
          },
          "metadata": {
            "tags": []
          },
          "execution_count": 69
        },
        {
          "output_type": "display_data",
          "data": {
            "image/png": "[encoded data removed]",
            "text/plain": [
              "<Figure size 432x288 with 1 Axes>"
            ]
          },
          "metadata": {
            "tags": []
          }
        }
      ]
    },
    {
      "cell_type": "markdown",
      "metadata": {
        "id": "j77n-Qg2_lv2",
        "colab_type": "text"
      },
      "source": [
        "##Pré-Processamento dos Dados"
      ]
    },
    {
      "cell_type": "code",
      "metadata": {
        "id": "xWgl5OjEHfXs",
        "colab_type": "code",
        "colab": {}
      },
      "source": [
        "dfp = df.copy() #copiando o dataset original para um exclusivo para o pré-processamento e treino da rede"
      ],
      "execution_count": 0,
      "outputs": []
    },
    {
      "cell_type": "code",
      "metadata": {
        "id": "er3QhMcg_uLo",
        "colab_type": "code",
        "outputId": "531acd18-61ec-4215-de34-b3652a1a7106",
        "colab": {
          "base_uri": "https://localhost:8080/",
          "height": 131
        }
      },
      "source": [
        "dfp.columns"
      ],
      "execution_count": 71,
      "outputs": [
        {
          "output_type": "execute_result",
          "data": {
            "text/plain": [
              "Index(['ATM Name', 'Transaction Date', 'No Of Withdrawals',\n",
              "       'No Of XYZ Card Withdrawals', 'No Of Other Card Withdrawals',\n",
              "       'Total amount Withdrawn', 'Amount withdrawn XYZ Card',\n",
              "       'Amount withdrawn Other Card', 'Weekday', 'Festival Religion',\n",
              "       'Working Day', 'Holiday Sequence'],\n",
              "      dtype='object')"
            ]
          },
          "metadata": {
            "tags": []
          },
          "execution_count": 71
        }
      ]
    },
    {
      "cell_type": "code",
      "metadata": {
        "id": "QyKNVfCI__EX",
        "colab_type": "code",
        "colab": {}
      },
      "source": [
        "drop_list = ['No Of XYZ Card Withdrawals', 'No Of Other Card Withdrawals','Amount withdrawn XYZ Card',\n",
        "       'Amount withdrawn Other Card']"
      ],
      "execution_count": 0,
      "outputs": []
    },
    {
      "cell_type": "code",
      "metadata": {
        "id": "OJd-1VYKAfJN",
        "colab_type": "code",
        "colab": {}
      },
      "source": [
        "dfp.drop(drop_list, axis = 1, inplace = True) #removendo as colunas da lista acima e criando um novo Dataset"
      ],
      "execution_count": 0,
      "outputs": []
    },
    {
      "cell_type": "code",
      "metadata": {
        "id": "OGo4KDNbA7uJ",
        "colab_type": "code",
        "outputId": "259a0c35-12dc-4b38-9fa8-a4612066e4b9",
        "colab": {
          "base_uri": "https://localhost:8080/",
          "height": 264
        }
      },
      "source": [
        "dfp.info()"
      ],
      "execution_count": 74,
      "outputs": [
        {
          "output_type": "stream",
          "text": [
            "<class 'pandas.core.frame.DataFrame'>\n",
            "RangeIndex: 11589 entries, 0 to 11588\n",
            "Data columns (total 8 columns):\n",
            "ATM Name                  11589 non-null object\n",
            "Transaction Date          11589 non-null object\n",
            "No Of Withdrawals         11589 non-null int64\n",
            "Total amount Withdrawn    11589 non-null int64\n",
            "Weekday                   11589 non-null object\n",
            "Festival Religion         11589 non-null object\n",
            "Working Day               11589 non-null object\n",
            "Holiday Sequence          11589 non-null object\n",
            "dtypes: int64(2), object(6)\n",
            "memory usage: 724.4+ KB\n"
          ],
          "name": "stdout"
        }
      ]
    },
    {
      "cell_type": "code",
      "metadata": {
        "id": "Qz24kx-yMNwp",
        "colab_type": "code",
        "outputId": "53e4e7a1-b72b-4de5-bd9b-d24193c22567",
        "colab": {
          "base_uri": "https://localhost:8080/",
          "height": 188
        }
      },
      "source": [
        "dfp.dtypes"
      ],
      "execution_count": 75,
      "outputs": [
        {
          "output_type": "execute_result",
          "data": {
            "text/plain": [
              "ATM Name                  object\n",
              "Transaction Date          object\n",
              "No Of Withdrawals          int64\n",
              "Total amount Withdrawn     int64\n",
              "Weekday                   object\n",
              "Festival Religion         object\n",
              "Working Day               object\n",
              "Holiday Sequence          object\n",
              "dtype: object"
            ]
          },
          "metadata": {
            "tags": []
          },
          "execution_count": 75
        }
      ]
    },
    {
      "cell_type": "markdown",
      "metadata": {
        "id": "173Wf4HLPn2L",
        "colab_type": "text"
      },
      "source": [
        "#####**Convertendo** a categoria Transaction Date de Objeto para DateTime"
      ]
    },
    {
      "cell_type": "code",
      "metadata": {
        "id": "nbdI6267PWvQ",
        "colab_type": "code",
        "colab": {}
      },
      "source": [
        "dfp['Transaction Date'] =  pd.to_datetime(df['Transaction Date'], infer_datetime_format=True)"
      ],
      "execution_count": 0,
      "outputs": []
    },
    {
      "cell_type": "code",
      "metadata": {
        "id": "57dT9O5CPi7V",
        "colab_type": "code",
        "outputId": "db801402-f491-491c-aa9e-2326655b6db3",
        "colab": {
          "base_uri": "https://localhost:8080/",
          "height": 188
        }
      },
      "source": [
        "dfp.dtypes"
      ],
      "execution_count": 77,
      "outputs": [
        {
          "output_type": "execute_result",
          "data": {
            "text/plain": [
              "ATM Name                          object\n",
              "Transaction Date          datetime64[ns]\n",
              "No Of Withdrawals                  int64\n",
              "Total amount Withdrawn             int64\n",
              "Weekday                           object\n",
              "Festival Religion                 object\n",
              "Working Day                       object\n",
              "Holiday Sequence                  object\n",
              "dtype: object"
            ]
          },
          "metadata": {
            "tags": []
          },
          "execution_count": 77
        }
      ]
    },
    {
      "cell_type": "markdown",
      "metadata": {
        "id": "kjLAGY2uR541",
        "colab_type": "text"
      },
      "source": [
        "#### Separando Dia, Mês e Ano em colunas distintas e removendo a coluna 'Transaction Date'"
      ]
    },
    {
      "cell_type": "code",
      "metadata": {
        "id": "fkdi1DKcQKml",
        "colab_type": "code",
        "colab": {}
      },
      "source": [
        "dfp['Ano'] = dfp['Transaction Date'].dt.year\n",
        "dfp['Mês'] = dfp['Transaction Date'].dt.month\n",
        "dfp['Dia'] = dfp['Transaction Date'].dt.day"
      ],
      "execution_count": 0,
      "outputs": []
    },
    {
      "cell_type": "code",
      "metadata": {
        "id": "6zfkPJ1ISH38",
        "colab_type": "code",
        "colab": {}
      },
      "source": [
        "dfp.drop(['Transaction Date'], axis=1, inplace=True)"
      ],
      "execution_count": 0,
      "outputs": []
    },
    {
      "cell_type": "code",
      "metadata": {
        "id": "JkO5Ws-RSf1Y",
        "colab_type": "code",
        "outputId": "ac80780e-8992-4220-c69b-0f2105dcdb43",
        "colab": {
          "base_uri": "https://localhost:8080/",
          "height": 206
        }
      },
      "source": [
        "dfp.head()"
      ],
      "execution_count": 80,
      "outputs": [
        {
          "output_type": "execute_result",
          "data": {
            "text/html": [
              "<div>\n",
              "<style scoped>\n",
              "    .dataframe tbody tr th:only-of-type {\n",
              "        vertical-align: middle;\n",
              "    }\n",
              "\n",
              "    .dataframe tbody tr th {\n",
              "        vertical-align: top;\n",
              "    }\n",
              "\n",
              "    .dataframe thead th {\n",
              "        text-align: right;\n",
              "    }\n",
              "</style>\n",
              "<table border=\"1\" class=\"dataframe\">\n",
              "  <thead>\n",
              "    <tr style=\"text-align: right;\">\n",
              "      <th></th>\n",
              "      <th>ATM Name</th>\n",
              "      <th>No Of Withdrawals</th>\n",
              "      <th>Total amount Withdrawn</th>\n",
              "      <th>Weekday</th>\n",
              "      <th>Festival Religion</th>\n",
              "      <th>Working Day</th>\n",
              "      <th>Holiday Sequence</th>\n",
              "      <th>Ano</th>\n",
              "      <th>Mês</th>\n",
              "      <th>Dia</th>\n",
              "    </tr>\n",
              "  </thead>\n",
              "  <tbody>\n",
              "    <tr>\n",
              "      <th>0</th>\n",
              "      <td>Big Street ATM</td>\n",
              "      <td>50</td>\n",
              "      <td>123800</td>\n",
              "      <td>Saturday</td>\n",
              "      <td>H</td>\n",
              "      <td>H</td>\n",
              "      <td>WHH</td>\n",
              "      <td>2011</td>\n",
              "      <td>1</td>\n",
              "      <td>1</td>\n",
              "    </tr>\n",
              "    <tr>\n",
              "      <th>1</th>\n",
              "      <td>Mount Road ATM</td>\n",
              "      <td>253</td>\n",
              "      <td>767900</td>\n",
              "      <td>Saturday</td>\n",
              "      <td>C</td>\n",
              "      <td>H</td>\n",
              "      <td>WHH</td>\n",
              "      <td>2011</td>\n",
              "      <td>1</td>\n",
              "      <td>1</td>\n",
              "    </tr>\n",
              "    <tr>\n",
              "      <th>2</th>\n",
              "      <td>Airport ATM</td>\n",
              "      <td>98</td>\n",
              "      <td>503400</td>\n",
              "      <td>Saturday</td>\n",
              "      <td>C</td>\n",
              "      <td>H</td>\n",
              "      <td>WHH</td>\n",
              "      <td>2011</td>\n",
              "      <td>1</td>\n",
              "      <td>1</td>\n",
              "    </tr>\n",
              "    <tr>\n",
              "      <th>3</th>\n",
              "      <td>KK Nagar ATM</td>\n",
              "      <td>265</td>\n",
              "      <td>945300</td>\n",
              "      <td>Saturday</td>\n",
              "      <td>C</td>\n",
              "      <td>H</td>\n",
              "      <td>WHH</td>\n",
              "      <td>2011</td>\n",
              "      <td>1</td>\n",
              "      <td>1</td>\n",
              "    </tr>\n",
              "    <tr>\n",
              "      <th>4</th>\n",
              "      <td>Christ College ATM</td>\n",
              "      <td>74</td>\n",
              "      <td>287700</td>\n",
              "      <td>Saturday</td>\n",
              "      <td>C</td>\n",
              "      <td>H</td>\n",
              "      <td>WHH</td>\n",
              "      <td>2011</td>\n",
              "      <td>1</td>\n",
              "      <td>1</td>\n",
              "    </tr>\n",
              "  </tbody>\n",
              "</table>\n",
              "</div>"
            ],
            "text/plain": [
              "             ATM Name  No Of Withdrawals  ...  Mês Dia\n",
              "0      Big Street ATM                 50  ...    1   1\n",
              "1      Mount Road ATM                253  ...    1   1\n",
              "2         Airport ATM                 98  ...    1   1\n",
              "3        KK Nagar ATM                265  ...    1   1\n",
              "4  Christ College ATM                 74  ...    1   1\n",
              "\n",
              "[5 rows x 10 columns]"
            ]
          },
          "metadata": {
            "tags": []
          },
          "execution_count": 80
        }
      ]
    },
    {
      "cell_type": "markdown",
      "metadata": {
        "id": "AdXecmaeWPZL",
        "colab_type": "text"
      },
      "source": [
        "#### Transformar dados categóricos em variáveis dummy para melhor leitura do Modelo de Predição"
      ]
    },
    {
      "cell_type": "code",
      "metadata": {
        "id": "87jxTLsfULZQ",
        "colab_type": "code",
        "outputId": "8ea21418-ae58-4673-be21-4313b5b31444",
        "colab": {
          "base_uri": "https://localhost:8080/",
          "height": 278
        }
      },
      "source": [
        "dfp = pd.get_dummies(dfp, columns=['ATM Name', 'Weekday', 'Working Day', 'Festival Religion', 'Holiday Sequence'])\n",
        "dfp.head()"
      ],
      "execution_count": 81,
      "outputs": [
        {
          "output_type": "execute_result",
          "data": {
            "text/html": [
              "<div>\n",
              "<style scoped>\n",
              "    .dataframe tbody tr th:only-of-type {\n",
              "        vertical-align: middle;\n",
              "    }\n",
              "\n",
              "    .dataframe tbody tr th {\n",
              "        vertical-align: top;\n",
              "    }\n",
              "\n",
              "    .dataframe thead th {\n",
              "        text-align: right;\n",
              "    }\n",
              "</style>\n",
              "<table border=\"1\" class=\"dataframe\">\n",
              "  <thead>\n",
              "    <tr style=\"text-align: right;\">\n",
              "      <th></th>\n",
              "      <th>No Of Withdrawals</th>\n",
              "      <th>Total amount Withdrawn</th>\n",
              "      <th>Ano</th>\n",
              "      <th>Mês</th>\n",
              "      <th>Dia</th>\n",
              "      <th>ATM Name_Airport ATM</th>\n",
              "      <th>ATM Name_Big Street ATM</th>\n",
              "      <th>ATM Name_Christ College ATM</th>\n",
              "      <th>ATM Name_KK Nagar ATM</th>\n",
              "      <th>ATM Name_Mount Road ATM</th>\n",
              "      <th>Weekday_Friday</th>\n",
              "      <th>Weekday_Monday</th>\n",
              "      <th>Weekday_Saturday</th>\n",
              "      <th>Weekday_Sunday</th>\n",
              "      <th>Weekday_Thursday</th>\n",
              "      <th>Weekday_Tuesday</th>\n",
              "      <th>Weekday_Wednesday</th>\n",
              "      <th>Working Day_H</th>\n",
              "      <th>Working Day_W</th>\n",
              "      <th>Festival Religion_C</th>\n",
              "      <th>Festival Religion_H</th>\n",
              "      <th>Festival Religion_M</th>\n",
              "      <th>Festival Religion_N</th>\n",
              "      <th>Festival Religion_NH</th>\n",
              "      <th>Holiday Sequence_HHH</th>\n",
              "      <th>Holiday Sequence_HHW</th>\n",
              "      <th>Holiday Sequence_HWH</th>\n",
              "      <th>Holiday Sequence_HWW</th>\n",
              "      <th>Holiday Sequence_WHH</th>\n",
              "      <th>Holiday Sequence_WHW</th>\n",
              "      <th>Holiday Sequence_WWH</th>\n",
              "      <th>Holiday Sequence_WWW</th>\n",
              "    </tr>\n",
              "  </thead>\n",
              "  <tbody>\n",
              "    <tr>\n",
              "      <th>0</th>\n",
              "      <td>50</td>\n",
              "      <td>123800</td>\n",
              "      <td>2011</td>\n",
              "      <td>1</td>\n",
              "      <td>1</td>\n",
              "      <td>0</td>\n",
              "      <td>1</td>\n",
              "      <td>0</td>\n",
              "      <td>0</td>\n",
              "      <td>0</td>\n",
              "      <td>0</td>\n",
              "      <td>0</td>\n",
              "      <td>1</td>\n",
              "      <td>0</td>\n",
              "      <td>0</td>\n",
              "      <td>0</td>\n",
              "      <td>0</td>\n",
              "      <td>1</td>\n",
              "      <td>0</td>\n",
              "      <td>0</td>\n",
              "      <td>1</td>\n",
              "      <td>0</td>\n",
              "      <td>0</td>\n",
              "      <td>0</td>\n",
              "      <td>0</td>\n",
              "      <td>0</td>\n",
              "      <td>0</td>\n",
              "      <td>0</td>\n",
              "      <td>1</td>\n",
              "      <td>0</td>\n",
              "      <td>0</td>\n",
              "      <td>0</td>\n",
              "    </tr>\n",
              "    <tr>\n",
              "      <th>1</th>\n",
              "      <td>253</td>\n",
              "      <td>767900</td>\n",
              "      <td>2011</td>\n",
              "      <td>1</td>\n",
              "      <td>1</td>\n",
              "      <td>0</td>\n",
              "      <td>0</td>\n",
              "      <td>0</td>\n",
              "      <td>0</td>\n",
              "      <td>1</td>\n",
              "      <td>0</td>\n",
              "      <td>0</td>\n",
              "      <td>1</td>\n",
              "      <td>0</td>\n",
              "      <td>0</td>\n",
              "      <td>0</td>\n",
              "      <td>0</td>\n",
              "      <td>1</td>\n",
              "      <td>0</td>\n",
              "      <td>1</td>\n",
              "      <td>0</td>\n",
              "      <td>0</td>\n",
              "      <td>0</td>\n",
              "      <td>0</td>\n",
              "      <td>0</td>\n",
              "      <td>0</td>\n",
              "      <td>0</td>\n",
              "      <td>0</td>\n",
              "      <td>1</td>\n",
              "      <td>0</td>\n",
              "      <td>0</td>\n",
              "      <td>0</td>\n",
              "    </tr>\n",
              "    <tr>\n",
              "      <th>2</th>\n",
              "      <td>98</td>\n",
              "      <td>503400</td>\n",
              "      <td>2011</td>\n",
              "      <td>1</td>\n",
              "      <td>1</td>\n",
              "      <td>1</td>\n",
              "      <td>0</td>\n",
              "      <td>0</td>\n",
              "      <td>0</td>\n",
              "      <td>0</td>\n",
              "      <td>0</td>\n",
              "      <td>0</td>\n",
              "      <td>1</td>\n",
              "      <td>0</td>\n",
              "      <td>0</td>\n",
              "      <td>0</td>\n",
              "      <td>0</td>\n",
              "      <td>1</td>\n",
              "      <td>0</td>\n",
              "      <td>1</td>\n",
              "      <td>0</td>\n",
              "      <td>0</td>\n",
              "      <td>0</td>\n",
              "      <td>0</td>\n",
              "      <td>0</td>\n",
              "      <td>0</td>\n",
              "      <td>0</td>\n",
              "      <td>0</td>\n",
              "      <td>1</td>\n",
              "      <td>0</td>\n",
              "      <td>0</td>\n",
              "      <td>0</td>\n",
              "    </tr>\n",
              "    <tr>\n",
              "      <th>3</th>\n",
              "      <td>265</td>\n",
              "      <td>945300</td>\n",
              "      <td>2011</td>\n",
              "      <td>1</td>\n",
              "      <td>1</td>\n",
              "      <td>0</td>\n",
              "      <td>0</td>\n",
              "      <td>0</td>\n",
              "      <td>1</td>\n",
              "      <td>0</td>\n",
              "      <td>0</td>\n",
              "      <td>0</td>\n",
              "      <td>1</td>\n",
              "      <td>0</td>\n",
              "      <td>0</td>\n",
              "      <td>0</td>\n",
              "      <td>0</td>\n",
              "      <td>1</td>\n",
              "      <td>0</td>\n",
              "      <td>1</td>\n",
              "      <td>0</td>\n",
              "      <td>0</td>\n",
              "      <td>0</td>\n",
              "      <td>0</td>\n",
              "      <td>0</td>\n",
              "      <td>0</td>\n",
              "      <td>0</td>\n",
              "      <td>0</td>\n",
              "      <td>1</td>\n",
              "      <td>0</td>\n",
              "      <td>0</td>\n",
              "      <td>0</td>\n",
              "    </tr>\n",
              "    <tr>\n",
              "      <th>4</th>\n",
              "      <td>74</td>\n",
              "      <td>287700</td>\n",
              "      <td>2011</td>\n",
              "      <td>1</td>\n",
              "      <td>1</td>\n",
              "      <td>0</td>\n",
              "      <td>0</td>\n",
              "      <td>1</td>\n",
              "      <td>0</td>\n",
              "      <td>0</td>\n",
              "      <td>0</td>\n",
              "      <td>0</td>\n",
              "      <td>1</td>\n",
              "      <td>0</td>\n",
              "      <td>0</td>\n",
              "      <td>0</td>\n",
              "      <td>0</td>\n",
              "      <td>1</td>\n",
              "      <td>0</td>\n",
              "      <td>1</td>\n",
              "      <td>0</td>\n",
              "      <td>0</td>\n",
              "      <td>0</td>\n",
              "      <td>0</td>\n",
              "      <td>0</td>\n",
              "      <td>0</td>\n",
              "      <td>0</td>\n",
              "      <td>0</td>\n",
              "      <td>1</td>\n",
              "      <td>0</td>\n",
              "      <td>0</td>\n",
              "      <td>0</td>\n",
              "    </tr>\n",
              "  </tbody>\n",
              "</table>\n",
              "</div>"
            ],
            "text/plain": [
              "   No Of Withdrawals  ...  Holiday Sequence_WWW\n",
              "0                 50  ...                     0\n",
              "1                253  ...                     0\n",
              "2                 98  ...                     0\n",
              "3                265  ...                     0\n",
              "4                 74  ...                     0\n",
              "\n",
              "[5 rows x 32 columns]"
            ]
          },
          "metadata": {
            "tags": []
          },
          "execution_count": 81
        }
      ]
    },
    {
      "cell_type": "code",
      "metadata": {
        "id": "hYpyXOKVGosH",
        "colab_type": "code",
        "outputId": "79f4b456-d896-4831-ff39-232750e9271d",
        "colab": {
          "base_uri": "https://localhost:8080/",
          "height": 36
        }
      },
      "source": [
        "dfp.shape"
      ],
      "execution_count": 82,
      "outputs": [
        {
          "output_type": "execute_result",
          "data": {
            "text/plain": [
              "(11589, 32)"
            ]
          },
          "metadata": {
            "tags": []
          },
          "execution_count": 82
        }
      ]
    },
    {
      "cell_type": "code",
      "metadata": {
        "id": "oYRNwaH-hobA",
        "colab_type": "code",
        "colab": {}
      },
      "source": [
        "#Download do Dataset em CSV - linhas comentadas pois é para uso paralelo ao notebook\n",
        "#from google.colab import files\n",
        "#dfp.to_csv('orange.csv')\n",
        "#files.download('orange.csv')"
      ],
      "execution_count": 0,
      "outputs": []
    },
    {
      "cell_type": "markdown",
      "metadata": {
        "id": "_jAOW8G6Z8sC",
        "colab_type": "text"
      },
      "source": [
        "####Seperar os dados de Treino e Teste para o modelo de Predição"
      ]
    },
    {
      "cell_type": "code",
      "metadata": {
        "id": "P2ZbSt04Z8lc",
        "colab_type": "code",
        "colab": {}
      },
      "source": [
        "from sklearn.model_selection import train_test_split\n",
        "x_treino, x_teste, y_treino, y_teste = train_test_split(dfp.drop('Total amount Withdrawn', axis=1),\n",
        "                                                    dfp['Total amount Withdrawn'], test_size=0.20,\n",
        "                                                    random_state=42)"
      ],
      "execution_count": 0,
      "outputs": []
    },
    {
      "cell_type": "markdown",
      "metadata": {
        "id": "06Pgu_CaJ_tM",
        "colab_type": "text"
      },
      "source": [
        "####Setup da Rede Neural - MLPClassifier"
      ]
    },
    {
      "cell_type": "code",
      "metadata": {
        "id": "DT_8f89EKLoP",
        "colab_type": "code",
        "outputId": "6fe3872a-f03f-49be-e743-9ebb4591dd2b",
        "colab": {
          "base_uri": "https://localhost:8080/",
          "height": 169
        }
      },
      "source": [
        "from sklearn.neural_network import MLPRegressor\n",
        "redeNeural = MLPRegressor(verbose=True, max_iter=1000, tol=0.0001, activation='tanh', solver='sgd',\n",
        "                          learning_rate_init=0.001, early_stopping=True, hidden_layer_sizes=(32,150))\n",
        "print(redeNeural) #exibir os todos os parâmetros"
      ],
      "execution_count": 85,
      "outputs": [
        {
          "output_type": "stream",
          "text": [
            "MLPRegressor(activation='tanh', alpha=0.0001, batch_size='auto', beta_1=0.9,\n",
            "             beta_2=0.999, early_stopping=True, epsilon=1e-08,\n",
            "             hidden_layer_sizes=(32, 150), learning_rate='constant',\n",
            "             learning_rate_init=0.001, max_fun=15000, max_iter=1000,\n",
            "             momentum=0.9, n_iter_no_change=10, nesterovs_momentum=True,\n",
            "             power_t=0.5, random_state=None, shuffle=True, solver='sgd',\n",
            "             tol=0.0001, validation_fraction=0.1, verbose=True,\n",
            "             warm_start=False)\n"
          ],
          "name": "stdout"
        }
      ]
    },
    {
      "cell_type": "markdown",
      "metadata": {
        "id": "OWQgywaIK2y0",
        "colab_type": "text"
      },
      "source": [
        "#### Encaixa entradas e saídas e TREINA rede / Faz a predição baseado na entrada informada como parâmetro"
      ]
    },
    {
      "cell_type": "markdown",
      "metadata": {
        "id": "90l8_715S-O0",
        "colab_type": "text"
      },
      "source": [
        "#### Treinar o Modelo"
      ]
    },
    {
      "cell_type": "code",
      "metadata": {
        "id": "r11owzPOKvzd",
        "colab_type": "code",
        "outputId": "4db09002-d69c-497f-beab-fa10862e081e",
        "colab": {
          "base_uri": "https://localhost:8080/",
          "height": 645
        }
      },
      "source": [
        "redeNeural.fit(x_treino, y_treino)"
      ],
      "execution_count": 86,
      "outputs": [
        {
          "output_type": "stream",
          "text": [
            "Iteration 1, loss = 62879102577.57102966\n",
            "Validation score: -0.000088\n",
            "Iteration 2, loss = 53072056298.05709839\n",
            "Validation score: -0.000004\n",
            "Iteration 3, loss = 53110917293.74044800\n",
            "Validation score: -0.000256\n",
            "Iteration 4, loss = 53129274079.93082428\n",
            "Validation score: -0.000001\n",
            "Iteration 5, loss = 53165243629.48199463\n",
            "Validation score: -0.000484\n",
            "Iteration 6, loss = 53114625212.45293427\n",
            "Validation score: -0.003201\n",
            "Iteration 7, loss = 53103395326.22705841\n",
            "Validation score: -0.001156\n",
            "Iteration 8, loss = 53109489041.12953186\n",
            "Validation score: -0.001647\n",
            "Iteration 9, loss = 53093144823.00202179\n",
            "Validation score: -0.000717\n",
            "Iteration 10, loss = 53154741351.24905396\n",
            "Validation score: -0.000204\n",
            "Iteration 11, loss = 53130970305.63462067\n",
            "Validation score: -0.000117\n",
            "Iteration 12, loss = 53175627790.99256897\n",
            "Validation score: -0.000013\n",
            "Validation score did not improve more than tol=0.000100 for 10 consecutive epochs. Stopping.\n"
          ],
          "name": "stdout"
        },
        {
          "output_type": "execute_result",
          "data": {
            "text/plain": [
              "MLPRegressor(activation='tanh', alpha=0.0001, batch_size='auto', beta_1=0.9,\n",
              "             beta_2=0.999, early_stopping=True, epsilon=1e-08,\n",
              "             hidden_layer_sizes=(32, 150), learning_rate='constant',\n",
              "             learning_rate_init=0.001, max_fun=15000, max_iter=1000,\n",
              "             momentum=0.9, n_iter_no_change=10, nesterovs_momentum=True,\n",
              "             power_t=0.5, random_state=None, shuffle=True, solver='sgd',\n",
              "             tol=0.0001, validation_fraction=0.1, verbose=True,\n",
              "             warm_start=False)"
            ]
          },
          "metadata": {
            "tags": []
          },
          "execution_count": 86
        }
      ]
    },
    {
      "cell_type": "markdown",
      "metadata": {
        "id": "g1-RR0pwS2PZ",
        "colab_type": "text"
      },
      "source": [
        "#### Avaliação do Modelo"
      ]
    },
    {
      "cell_type": "code",
      "metadata": {
        "id": "3uzvRX43LUGv",
        "colab_type": "code",
        "colab": {}
      },
      "source": [
        "predito = redeNeural.predict(x_teste)"
      ],
      "execution_count": 0,
      "outputs": []
    },
    {
      "cell_type": "code",
      "metadata": {
        "id": "lvmD5gHYSjgc",
        "colab_type": "code",
        "outputId": "50ad5b4f-0c38-436b-8bbe-b07e5f62062d",
        "colab": {
          "base_uri": "https://localhost:8080/",
          "height": 93
        }
      },
      "source": [
        "from sklearn.metrics import mean_squared_error\n",
        "from sklearn.metrics import mean_absolute_error\n",
        "\n",
        "# Média Absoluta do Erro\n",
        "print( '\\nResultado da Media Absoluta do Erro = {:.2f}'.format(mean_absolute_error(y_teste, redeNeural.predict(x_teste))))\n",
        "\n",
        "# Raíz Quadrada do Erro Médio\n",
        "print( '\\nResultado do Raiz Quadrada do Erro Médio = {:.2f}'.format(mean_squared_error(y_teste, redeNeural.predict(x_teste))))"
      ],
      "execution_count": 88,
      "outputs": [
        {
          "output_type": "stream",
          "text": [
            "\n",
            "Resultado da Media Absoluta do Erro = 240172.31\n",
            "\n",
            "Resultado do Raiz Quadrada do Erro Médio = 101542523950.52\n"
          ],
          "name": "stdout"
        }
      ]
    },
    {
      "cell_type": "markdown",
      "metadata": {
        "id": "mHfJ-bt8zbBc",
        "colab_type": "text"
      },
      "source": [
        "###Criar um DataFrame para comparar Predito do Real - TODOS ATM"
      ]
    },
    {
      "cell_type": "code",
      "metadata": {
        "id": "ye8mnNIizkxe",
        "colab_type": "code",
        "colab": {}
      },
      "source": [
        "# Loop de auxilio para criação de outro dataframe\n",
        "lista = []\n",
        "for i in range(2318):\n",
        "    lista.append(i)"
      ],
      "execution_count": 0,
      "outputs": []
    },
    {
      "cell_type": "code",
      "metadata": {
        "id": "Ya1L--8gzrNo",
        "colab_type": "code",
        "colab": {
          "base_uri": "https://localhost:8080/",
          "height": 36
        },
        "outputId": "584d98e2-41c3-4500-fdb4-eeab3d669ba7"
      },
      "source": [
        "compara = [y_teste,predito]\n",
        "compara = np.array(compara)\n",
        "compara.shape"
      ],
      "execution_count": 111,
      "outputs": [
        {
          "output_type": "execute_result",
          "data": {
            "text/plain": [
              "(2, 2318)"
            ]
          },
          "metadata": {
            "tags": []
          },
          "execution_count": 111
        }
      ]
    },
    {
      "cell_type": "code",
      "metadata": {
        "id": "yCGvA31jzrdE",
        "colab_type": "code",
        "colab": {
          "base_uri": "https://localhost:8080/",
          "height": 206
        },
        "outputId": "4a412949-b3e8-40f8-999d-82f6698a7d01"
      },
      "source": [
        "compara = compara.reshape(2318,2)\n",
        "df_pred = pd.DataFrame(compara,index=lista,columns=['real','pred'])\n",
        "df_pred.head()"
      ],
      "execution_count": 115,
      "outputs": [
        {
          "output_type": "execute_result",
          "data": {
            "text/html": [
              "<div>\n",
              "<style scoped>\n",
              "    .dataframe tbody tr th:only-of-type {\n",
              "        vertical-align: middle;\n",
              "    }\n",
              "\n",
              "    .dataframe tbody tr th {\n",
              "        vertical-align: top;\n",
              "    }\n",
              "\n",
              "    .dataframe thead th {\n",
              "        text-align: right;\n",
              "    }\n",
              "</style>\n",
              "<table border=\"1\" class=\"dataframe\">\n",
              "  <thead>\n",
              "    <tr style=\"text-align: right;\">\n",
              "      <th></th>\n",
              "      <th>real</th>\n",
              "      <th>pred</th>\n",
              "    </tr>\n",
              "  </thead>\n",
              "  <tbody>\n",
              "    <tr>\n",
              "      <th>0</th>\n",
              "      <td>663100.0</td>\n",
              "      <td>148300.0</td>\n",
              "    </tr>\n",
              "    <tr>\n",
              "      <th>1</th>\n",
              "      <td>412900.0</td>\n",
              "      <td>325800.0</td>\n",
              "    </tr>\n",
              "    <tr>\n",
              "      <th>2</th>\n",
              "      <td>376700.0</td>\n",
              "      <td>495300.0</td>\n",
              "    </tr>\n",
              "    <tr>\n",
              "      <th>3</th>\n",
              "      <td>381000.0</td>\n",
              "      <td>940600.0</td>\n",
              "    </tr>\n",
              "    <tr>\n",
              "      <th>4</th>\n",
              "      <td>361800.0</td>\n",
              "      <td>209400.0</td>\n",
              "    </tr>\n",
              "  </tbody>\n",
              "</table>\n",
              "</div>"
            ],
            "text/plain": [
              "       real      pred\n",
              "0  663100.0  148300.0\n",
              "1  412900.0  325800.0\n",
              "2  376700.0  495300.0\n",
              "3  381000.0  940600.0\n",
              "4  361800.0  209400.0"
            ]
          },
          "metadata": {
            "tags": []
          },
          "execution_count": 115
        }
      ]
    },
    {
      "cell_type": "code",
      "metadata": {
        "id": "crL5Ur60z1Lg",
        "colab_type": "code",
        "colab": {
          "base_uri": "https://localhost:8080/",
          "height": 513
        },
        "outputId": "a4d58b53-08f8-4cb0-901e-98d6ca82190a"
      },
      "source": [
        "# Plot dos valores reais contra predições\n",
        "plt.figure()\n",
        "df_pred_2['real'].plot(label='Real',alpha=0.6,figsize=(16,8))\n",
        "df_pred_2['pred'].plot(label='Predito',alpha=0.8)\n",
        "plt.title('Predições vs Valores reais')\n",
        "plt.ylabel('Saqus Totais ATM KK_Nagar')\n",
        "plt.xlabel('Total amount Withdrawn')\n",
        "plt.legend();"
      ],
      "execution_count": 116,
      "outputs": [
        {
          "output_type": "display_data",
          "data": {
            "image/png": "[encoded data removed]",
            "text/plain": [
              "<Figure size 1152x576 with 1 Axes>"
            ]
          },
          "metadata": {
            "tags": []
          }
        }
      ]
    },
    {
      "cell_type": "markdown",
      "metadata": {
        "id": "5-_N2ggnXThQ",
        "colab_type": "text"
      },
      "source": [
        "# Modelo considerando apenas um único ATM (KK Nagar ATM)"
      ]
    },
    {
      "cell_type": "markdown",
      "metadata": {
        "id": "NrHL0kQ5b9HT",
        "colab_type": "text"
      },
      "source": [
        "### Criando um Dataset apenas com 1 Caixa Eletrônico e aplicando o Modelo"
      ]
    },
    {
      "cell_type": "code",
      "metadata": {
        "id": "uLq5h6kMYyZs",
        "colab_type": "code",
        "colab": {}
      },
      "source": [
        "atmKKNagar = dfp"
      ],
      "execution_count": 0,
      "outputs": []
    },
    {
      "cell_type": "code",
      "metadata": {
        "id": "ZIgN6_VUd26U",
        "colab_type": "code",
        "outputId": "5e998eaa-dff1-4f06-a6ff-49a535373518",
        "colab": {
          "base_uri": "https://localhost:8080/",
          "height": 245
        }
      },
      "source": [
        "atmKKNagar.columns"
      ],
      "execution_count": 90,
      "outputs": [
        {
          "output_type": "execute_result",
          "data": {
            "text/plain": [
              "Index(['No Of Withdrawals', 'Total amount Withdrawn', 'Ano', 'Mês', 'Dia',\n",
              "       'ATM Name_Airport ATM', 'ATM Name_Big Street ATM',\n",
              "       'ATM Name_Christ College ATM', 'ATM Name_KK Nagar ATM',\n",
              "       'ATM Name_Mount Road ATM', 'Weekday_Friday', 'Weekday_Monday',\n",
              "       'Weekday_Saturday', 'Weekday_Sunday', 'Weekday_Thursday',\n",
              "       'Weekday_Tuesday', 'Weekday_Wednesday', 'Working Day_H',\n",
              "       'Working Day_W', 'Festival Religion_C', 'Festival Religion_H',\n",
              "       'Festival Religion_M', 'Festival Religion_N', 'Festival Religion_NH',\n",
              "       'Holiday Sequence_HHH', 'Holiday Sequence_HHW', 'Holiday Sequence_HWH',\n",
              "       'Holiday Sequence_HWW', 'Holiday Sequence_WHH', 'Holiday Sequence_WHW',\n",
              "       'Holiday Sequence_WWH', 'Holiday Sequence_WWW'],\n",
              "      dtype='object')"
            ]
          },
          "metadata": {
            "tags": []
          },
          "execution_count": 90
        }
      ]
    },
    {
      "cell_type": "code",
      "metadata": {
        "id": "bgc1BAFQdc4-",
        "colab_type": "code",
        "colab": {}
      },
      "source": [
        "drop_list = ['ATM Name_Airport ATM', 'ATM Name_Big Street ATM','ATM Name_Christ College ATM',\n",
        "       'ATM Name_Mount Road ATM']"
      ],
      "execution_count": 0,
      "outputs": []
    },
    {
      "cell_type": "code",
      "metadata": {
        "id": "itB3-xyEcMj7",
        "colab_type": "code",
        "colab": {}
      },
      "source": [
        "atmKKNagar.drop(drop_list, axis = 1, inplace = True) #removendo as colunas da lista acima e criando um novo Dataset"
      ],
      "execution_count": 0,
      "outputs": []
    },
    {
      "cell_type": "code",
      "metadata": {
        "id": "givj_PShfG_S",
        "colab_type": "code",
        "outputId": "1bb9d042-3137-4943-9e61-87ac2cabaad6",
        "colab": {
          "base_uri": "https://localhost:8080/",
          "height": 36
        }
      },
      "source": [
        "atmKKNagar.shape"
      ],
      "execution_count": 93,
      "outputs": [
        {
          "output_type": "execute_result",
          "data": {
            "text/plain": [
              "(11589, 28)"
            ]
          },
          "metadata": {
            "tags": []
          },
          "execution_count": 93
        }
      ]
    },
    {
      "cell_type": "code",
      "metadata": {
        "id": "FLt13vx_fPIX",
        "colab_type": "code",
        "colab": {}
      },
      "source": [
        "x_treino, x_teste, y_treino, y_teste = train_test_split(atmKKNagar.drop('Total amount Withdrawn', axis=1),\n",
        "                                                    dfp['Total amount Withdrawn'], test_size=0.20,\n",
        "                                                    random_state=42)"
      ],
      "execution_count": 0,
      "outputs": []
    },
    {
      "cell_type": "code",
      "metadata": {
        "id": "Z-_iDBkDf_07",
        "colab_type": "code",
        "outputId": "d1c59721-110a-4df8-d84d-ee0c06a4fcc6",
        "colab": {
          "base_uri": "https://localhost:8080/",
          "height": 169
        }
      },
      "source": [
        "redeNeural_2 = MLPRegressor(verbose=True, max_iter=1000, tol=0.0001, activation='tanh', solver='sgd',\n",
        "                          learning_rate_init=0.001, early_stopping=True, hidden_layer_sizes=(28,200))\n",
        "print(redeNeural_2) #exibir os todos os parâmetros"
      ],
      "execution_count": 95,
      "outputs": [
        {
          "output_type": "stream",
          "text": [
            "MLPRegressor(activation='tanh', alpha=0.0001, batch_size='auto', beta_1=0.9,\n",
            "             beta_2=0.999, early_stopping=True, epsilon=1e-08,\n",
            "             hidden_layer_sizes=(28, 200), learning_rate='constant',\n",
            "             learning_rate_init=0.001, max_fun=15000, max_iter=1000,\n",
            "             momentum=0.9, n_iter_no_change=10, nesterovs_momentum=True,\n",
            "             power_t=0.5, random_state=None, shuffle=True, solver='sgd',\n",
            "             tol=0.0001, validation_fraction=0.1, verbose=True,\n",
            "             warm_start=False)\n"
          ],
          "name": "stdout"
        }
      ]
    },
    {
      "cell_type": "code",
      "metadata": {
        "id": "VmvvkXzngsXF",
        "colab_type": "code",
        "outputId": "2d2b3165-0548-4574-df02-502e086f87c4",
        "colab": {
          "base_uri": "https://localhost:8080/",
          "height": 683
        }
      },
      "source": [
        "redeNeural_2.fit(x_treino, y_treino)"
      ],
      "execution_count": 96,
      "outputs": [
        {
          "output_type": "stream",
          "text": [
            "Iteration 1, loss = 64033624615.64243317\n",
            "Validation score: -0.001024\n",
            "Iteration 2, loss = 53755495041.35793304\n",
            "Validation score: -0.000101\n",
            "Iteration 3, loss = 53813335381.70586395\n",
            "Validation score: -0.000034\n",
            "Iteration 4, loss = 53756658113.22497559\n",
            "Validation score: -0.001583\n",
            "Iteration 5, loss = 53696802804.46099091\n",
            "Validation score: -0.000620\n",
            "Iteration 6, loss = 53719946207.31505585\n",
            "Validation score: -0.011372\n",
            "Iteration 7, loss = 53590504209.68605804\n",
            "Validation score: -0.001971\n",
            "Iteration 8, loss = 53661111417.42047882\n",
            "Validation score: -0.007969\n",
            "Iteration 9, loss = 53637723153.53678894\n",
            "Validation score: -0.002516\n",
            "Iteration 10, loss = 53773595861.33573151\n",
            "Validation score: -0.000631\n",
            "Iteration 11, loss = 53671395335.15313721\n",
            "Validation score: -0.001703\n",
            "Iteration 12, loss = 53669836078.35328674\n",
            "Validation score: -0.012000\n",
            "Iteration 13, loss = 53737625485.43890381\n",
            "Validation score: -0.001506\n",
            "Validation score did not improve more than tol=0.000100 for 10 consecutive epochs. Stopping.\n"
          ],
          "name": "stdout"
        },
        {
          "output_type": "execute_result",
          "data": {
            "text/plain": [
              "MLPRegressor(activation='tanh', alpha=0.0001, batch_size='auto', beta_1=0.9,\n",
              "             beta_2=0.999, early_stopping=True, epsilon=1e-08,\n",
              "             hidden_layer_sizes=(28, 200), learning_rate='constant',\n",
              "             learning_rate_init=0.001, max_fun=15000, max_iter=1000,\n",
              "             momentum=0.9, n_iter_no_change=10, nesterovs_momentum=True,\n",
              "             power_t=0.5, random_state=None, shuffle=True, solver='sgd',\n",
              "             tol=0.0001, validation_fraction=0.1, verbose=True,\n",
              "             warm_start=False)"
            ]
          },
          "metadata": {
            "tags": []
          },
          "execution_count": 96
        }
      ]
    },
    {
      "cell_type": "code",
      "metadata": {
        "id": "QB1toVC5gye-",
        "colab_type": "code",
        "outputId": "49bb792b-d40a-45c6-e246-5b679a5d492f",
        "colab": {
          "base_uri": "https://localhost:8080/",
          "height": 93
        }
      },
      "source": [
        "predito_2 = redeNeural_2.predict(x_teste)\n",
        "\n",
        "# Média Absoluta do Erro\n",
        "print( '\\nResultado da Media Absoluta do Erro = {:.2f}'.format(mean_absolute_error(y_teste, redeNeural_2.predict(x_teste))))\n",
        "\n",
        "# Raíz Quadrada do Erro Médio\n",
        "print( '\\nResultado do Raiz Quadrada do Erro Médio = {:.2f}'.format(mean_squared_error(y_teste, redeNeural_2.predict(x_teste))))"
      ],
      "execution_count": 97,
      "outputs": [
        {
          "output_type": "stream",
          "text": [
            "\n",
            "Resultado da Media Absoluta do Erro = 238503.81\n",
            "\n",
            "Resultado do Raiz Quadrada do Erro Médio = 101543360892.76\n"
          ],
          "name": "stdout"
        }
      ]
    },
    {
      "cell_type": "markdown",
      "metadata": {
        "id": "zZX8gz7Ciaub",
        "colab_type": "text"
      },
      "source": [
        "###Criar um DataFrame para comparar Predito do Real - KK Nagar ATM"
      ]
    },
    {
      "cell_type": "code",
      "metadata": {
        "id": "dD4dfLEJwlZP",
        "colab_type": "code",
        "colab": {}
      },
      "source": [
        "# Loop de auxilio para criação de outro dataframe\n",
        "lista = []\n",
        "for i in range(2318):\n",
        "    lista.append(i)"
      ],
      "execution_count": 0,
      "outputs": []
    },
    {
      "cell_type": "code",
      "metadata": {
        "id": "XSj_2N5qw7jy",
        "colab_type": "code",
        "colab": {
          "base_uri": "https://localhost:8080/",
          "height": 36
        },
        "outputId": "bf3f9ba2-474d-4a86-c6b9-d977ac2acddf"
      },
      "source": [
        "compara_2 = [y_teste,predito_2]\n",
        "compara_2 = np.array(compara_2)\n",
        "compara_2.shape"
      ],
      "execution_count": 102,
      "outputs": [
        {
          "output_type": "execute_result",
          "data": {
            "text/plain": [
              "(2, 2318)"
            ]
          },
          "metadata": {
            "tags": []
          },
          "execution_count": 102
        }
      ]
    },
    {
      "cell_type": "code",
      "metadata": {
        "id": "6clGvI6jxqZS",
        "colab_type": "code",
        "colab": {
          "base_uri": "https://localhost:8080/",
          "height": 206
        },
        "outputId": "5cba8f85-9060-4ad4-b2e6-4407b212ccec"
      },
      "source": [
        "compara_2 = compara_2.reshape(2318,2)\n",
        "df_pred_2 = pd.DataFrame(compara_2,index=lista,columns=['real','pred'])\n",
        "df_pred_2.head()"
      ],
      "execution_count": 112,
      "outputs": [
        {
          "output_type": "execute_result",
          "data": {
            "text/html": [
              "<div>\n",
              "<style scoped>\n",
              "    .dataframe tbody tr th:only-of-type {\n",
              "        vertical-align: middle;\n",
              "    }\n",
              "\n",
              "    .dataframe tbody tr th {\n",
              "        vertical-align: top;\n",
              "    }\n",
              "\n",
              "    .dataframe thead th {\n",
              "        text-align: right;\n",
              "    }\n",
              "</style>\n",
              "<table border=\"1\" class=\"dataframe\">\n",
              "  <thead>\n",
              "    <tr style=\"text-align: right;\">\n",
              "      <th></th>\n",
              "      <th>real</th>\n",
              "      <th>pred</th>\n",
              "    </tr>\n",
              "  </thead>\n",
              "  <tbody>\n",
              "    <tr>\n",
              "      <th>0</th>\n",
              "      <td>663100.0</td>\n",
              "      <td>148300.0</td>\n",
              "    </tr>\n",
              "    <tr>\n",
              "      <th>1</th>\n",
              "      <td>412900.0</td>\n",
              "      <td>325800.0</td>\n",
              "    </tr>\n",
              "    <tr>\n",
              "      <th>2</th>\n",
              "      <td>376700.0</td>\n",
              "      <td>495300.0</td>\n",
              "    </tr>\n",
              "    <tr>\n",
              "      <th>3</th>\n",
              "      <td>381000.0</td>\n",
              "      <td>940600.0</td>\n",
              "    </tr>\n",
              "    <tr>\n",
              "      <th>4</th>\n",
              "      <td>361800.0</td>\n",
              "      <td>209400.0</td>\n",
              "    </tr>\n",
              "  </tbody>\n",
              "</table>\n",
              "</div>"
            ],
            "text/plain": [
              "       real      pred\n",
              "0  663100.0  148300.0\n",
              "1  412900.0  325800.0\n",
              "2  376700.0  495300.0\n",
              "3  381000.0  940600.0\n",
              "4  361800.0  209400.0"
            ]
          },
          "metadata": {
            "tags": []
          },
          "execution_count": 112
        }
      ]
    },
    {
      "cell_type": "code",
      "metadata": {
        "id": "81f7jjjxyY2Q",
        "colab_type": "code",
        "colab": {
          "base_uri": "https://localhost:8080/",
          "height": 513
        },
        "outputId": "a997b701-7c40-43b8-e6e9-1d3c449af22a"
      },
      "source": [
        "# Plot dos valores reais contra predições\n",
        "plt.figure()\n",
        "df_pred_2['real'].plot(label='Real',alpha=0.6,figsize=(16,8))\n",
        "df_pred_2['pred'].plot(label='Predito',alpha=0.8)\n",
        "plt.title('Predições vs Valores reais')\n",
        "plt.ylabel('Saqus Totais ATM KK_Nagar')\n",
        "plt.xlabel('Total amount Withdrawn')\n",
        "plt.legend();"
      ],
      "execution_count": 113,
      "outputs": [
        {
          "output_type": "display_data",
          "data": {
            "image/png": "[encoded data removed]",
            "text/plain": [
              "<Figure size 1152x576 with 1 Axes>"
            ]
          },
          "metadata": {
            "tags": []
          }
        }
      ]
    },
    {
      "cell_type": "code",
      "metadata": {
        "id": "d7hmcHLmy9Aw",
        "colab_type": "code",
        "colab": {}
      },
      "source": [
        ""
      ],
      "execution_count": 0,
      "outputs": []
    }
  ]
}